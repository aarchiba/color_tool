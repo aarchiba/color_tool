{
 "cells": [
  {
   "cell_type": "code",
   "execution_count": 23,
   "metadata": {},
   "outputs": [],
   "source": [
    "%matplotlib widget\n",
    "import matplotlib as mpl\n",
    "import matplotlib.pyplot as plt\n",
    "import numpy as np\n",
    "import numpy.ma as ma\n",
    "import scipy.optimize\n",
    "import matplotlib.pyplot as plt\n",
    "import matplotlib as mpl\n",
    "from colorspacious import cspace_convert"
   ]
  },
  {
   "cell_type": "code",
   "execution_count": 24,
   "metadata": {},
   "outputs": [],
   "source": [
    "mpl.rcParams[\"figure.dpi\"] = 144\n",
    "plt.style.use('dark_background')"
   ]
  },
  {
   "cell_type": "code",
   "execution_count": 9,
   "metadata": {},
   "outputs": [
    {
     "data": {
      "text/plain": [
       "JChQMsH(J=20.00000000000001, C=50.000000000000036, h=2.528641304780442e-14, Q=55.31918440250145, M=36.14619347463442, s=80.83387532760875, H=380.21351847000267)"
      ]
     },
     "execution_count": 9,
     "metadata": {},
     "output_type": "execute_result"
    }
   ],
   "source": [
    "jch = (20,50,0)\n",
    "\n",
    "ciecam_color = cspace_convert(jch, \"JCh\", \"CIECAM02\")\n",
    "ciecam_color"
   ]
  },
  {
   "cell_type": "code",
   "execution_count": 8,
   "metadata": {},
   "outputs": [],
   "source": [
    "def add_alpha(im):\n",
    "    im = np.asanyarray(im)\n",
    "    if im.shape[-1]!=3:\n",
    "        raise ValueError(\"Input image appears to have %d \"\n",
    "                         \"color channels, \"\n",
    "                         \"should have exactly 3\" % im.shape[-1])\n",
    "    new_shape = im.shape[:-1]+(4,)\n",
    "    new_im = ma.zeros(new_shape, dtype=im.dtype)\n",
    "    new_im[...,:3] = im\n",
    "    new_im[...,3] = 1\n",
    "    new_im[ma.any(ma.getmaskarray(im),axis=-1),3] = 0\n",
    "    return new_im\n",
    "def mask_image(im,limit=None):\n",
    "    c = ~np.all(np.isfinite(im),axis=-1)\n",
    "    c |= np.any(im<0, axis=-1)\n",
    "    if limit is not None:\n",
    "        c |= np.any(im>limit, axis=-1)\n",
    "    mim = ma.array(im)\n",
    "    mim[c,:] = ma.masked\n",
    "    return mim"
   ]
  },
  {
   "cell_type": "code",
   "execution_count": 49,
   "metadata": {},
   "outputs": [
    {
     "name": "stderr",
     "output_type": "stream",
     "text": [
      "/home/archibald/software/anaconda2/envs/colors/lib/python3.7/site-packages/ipykernel_launcher.py:52: RuntimeWarning: More than 20 figures have been opened. Figures created through the pyplot interface (`matplotlib.pyplot.figure`) are retained until explicitly closed and may consume too much memory. (To control this warning, see the rcParam `figure.max_open_warning`).\n"
     ]
    },
    {
     "data": {
      "application/vnd.jupyter.widget-view+json": {
       "model_id": "1dab2f37e201463bb3d41a1b7f903372",
       "version_major": 2,
       "version_minor": 0
      },
      "text/plain": [
       "Canvas(toolbar=Toolbar(toolitems=[('Home', 'Reset original view', 'home', 'home'), ('Back', 'Back to previous …"
      ]
     },
     "metadata": {},
     "output_type": "display_data"
    }
   ],
   "source": [
    "# axes = \"JChQMsH\"\n",
    "angular = \"h\"\n",
    "\n",
    "ranges = dict(\n",
    "    J=(0,100),\n",
    "    C=(0,100),\n",
    "    h=(0,360),\n",
    "    Q=(0,100),\n",
    "    M=(0,100),\n",
    "    s=(0,100),\n",
    "    H=(0,399.9),\n",
    ")\n",
    "    \n",
    "def color_array(c, fixed=\"J\", x=\"C\", y=\"h\"):\n",
    "    ac = fixed+x+y\n",
    "    v = np.zeros((400,401,3))\n",
    "    v[:,:,0] = getattr(c,fixed)\n",
    "    c_x = getattr(c,x)\n",
    "    c_y = getattr(c,y)\n",
    "    v[:,:,1] = np.linspace(ranges[x][0],\n",
    "                           ranges[x][1],\n",
    "                           v.shape[0]\n",
    "                          )[:,None]\n",
    "    v[:,:,2] = np.linspace(ranges[y][0],\n",
    "                           ranges[y][1],\n",
    "                           v.shape[1]\n",
    "                          )[None,:]\n",
    "    return (add_alpha(mask_image(cspace_convert(v,ac,\"sRGB1\"),limit=1)),\n",
    "            (ranges[x][0],ranges[x][1],ranges[y][0],ranges[y][1]),\n",
    "            (c_x,c_y))\n",
    "x = \"C\"\n",
    "y = \"h\"\n",
    "fixed = \"J\"\n",
    "clicks = []\n",
    "def color_plot(ax, ciecam_color, fixed=\"J\", x=\"C\", y=\"h\"):\n",
    "    srgba, extent, pt = color_array(ciecam_color,x=x,y=y,fixed=fixed)\n",
    "    ax.imshow(srgba.transpose((1,0,2)), \n",
    "              extent=extent,\n",
    "              origin=\"lower\")\n",
    "    ax.plot(pt[0],pt[1],\"o\")\n",
    "    ax.set_aspect(\"auto\")\n",
    "    ax.set_xlabel(x)\n",
    "    ax.set_ylabel(y)\n",
    "    ax.set_title(\"%s fixed at %.1f\" % (fixed,getattr(ciecam_color,fixed)))\n",
    "    def onclick(event):\n",
    "        global clicks\n",
    "        if event.inaxes == ax:\n",
    "            clicks.append((event.xdata, event.ydata))\n",
    "        \n",
    "    ax.get_figure().canvas.mpl_connect('button_press_event', onclick)\n",
    "    \n",
    "fig, ax = plt.subplots()\n",
    "color_plot(ax, ciecam_color, fixed=fixed, x=x, y=y)\n"
   ]
  },
  {
   "cell_type": "code",
   "execution_count": 50,
   "metadata": {},
   "outputs": [
    {
     "data": {
      "text/plain": [
       "[]"
      ]
     },
     "execution_count": 50,
     "metadata": {},
     "output_type": "execute_result"
    }
   ],
   "source": [
    "clicks"
   ]
  },
  {
   "cell_type": "code",
   "execution_count": 51,
   "metadata": {},
   "outputs": [
    {
     "name": "stderr",
     "output_type": "stream",
     "text": [
      "/home/archibald/software/anaconda2/envs/colors/lib/python3.7/site-packages/ipykernel_launcher.py:1: RuntimeWarning: More than 20 figures have been opened. Figures created through the pyplot interface (`matplotlib.pyplot.figure`) are retained until explicitly closed and may consume too much memory. (To control this warning, see the rcParam `figure.max_open_warning`).\n",
      "  \"\"\"Entry point for launching an IPython kernel.\n"
     ]
    },
    {
     "data": {
      "application/vnd.jupyter.widget-view+json": {
       "model_id": "ff516fbcb2b64721959824a9202a7a83",
       "version_major": 2,
       "version_minor": 0
      },
      "text/plain": [
       "Canvas(toolbar=Toolbar(toolitems=[('Home', 'Reset original view', 'home', 'home'), ('Back', 'Back to previous …"
      ]
     },
     "metadata": {},
     "output_type": "display_data"
    }
   ],
   "source": [
    "fig, ax = plt.subplots()\n",
    "color_plot(ax, ciecam_color, fixed=\"J\", x=\"H\", y=\"s\")"
   ]
  },
  {
   "cell_type": "code",
   "execution_count": null,
   "metadata": {},
   "outputs": [],
   "source": []
  }
 ],
 "metadata": {
  "kernelspec": {
   "display_name": "Python 3",
   "language": "python",
   "name": "python3"
  },
  "language_info": {
   "codemirror_mode": {
    "name": "ipython",
    "version": 3
   },
   "file_extension": ".py",
   "mimetype": "text/x-python",
   "name": "python",
   "nbconvert_exporter": "python",
   "pygments_lexer": "ipython3",
   "version": "3.7.3"
  }
 },
 "nbformat": 4,
 "nbformat_minor": 4
}
